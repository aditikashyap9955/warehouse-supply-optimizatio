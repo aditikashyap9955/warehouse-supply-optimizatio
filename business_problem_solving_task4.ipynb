{
 "cells": [
  {
   "cell_type": "code",
   "execution_count": 3,
   "id": "dece9749-79ab-479b-a8d2-ba477c10ca01",
   "metadata": {},
   "outputs": [
    {
     "name": "stdout",
     "output_type": "stream",
     "text": [
      "Collecting pulp\n",
      "  Using cached pulp-3.2.1-py3-none-any.whl.metadata (6.9 kB)\n",
      "Using cached pulp-3.2.1-py3-none-any.whl (16.4 MB)\n",
      "Installing collected packages: pulp\n",
      "Successfully installed pulp-3.2.1\n"
     ]
    }
   ],
   "source": [
    "!pip install pulp\n"
   ]
  },
  {
   "cell_type": "code",
   "execution_count": 6,
   "id": "c1ee3477-4689-4b12-943d-6cf5a563357d",
   "metadata": {},
   "outputs": [
    {
     "name": "stdout",
     "output_type": "stream",
     "text": [
      "3.0.2\n"
     ]
    }
   ],
   "source": [
    "import pulp\n",
    "print(pulp.__version__)\n"
   ]
  },
  {
   "cell_type": "code",
   "execution_count": 7,
   "id": "e9488c78-b10b-4c43-86fb-44d4fe33f860",
   "metadata": {},
   "outputs": [],
   "source": [
    "import pulp\n",
    "\n",
    "# name of warehouse and stores\n",
    "warehouses = ['W1', 'W2']\n",
    "stores = ['S1', 'S2', 'S3']\n",
    "\n",
    "# supplying warehouse\n",
    "supply = {'W1': 70, 'W2': 80}\n",
    "\n",
    "# demand of stores\n",
    "demand = {'S1': 50, 'S2': 60, 'S3': 40}\n",
    "\n",
    "costs = {\n",
    "    ('W1', 'S1'): 2, ('W1', 'S2'): 4, ('W1', 'S3'): 5,\n",
    "    ('W2', 'S1'): 3, ('W2', 'S2'): 1, ('W2', 'S3'): 7\n",
    "}\n"
   ]
  },
  {
   "cell_type": "code",
   "execution_count": 8,
   "id": "9e811425-1e6c-4133-8532-7b55d3b35702",
   "metadata": {},
   "outputs": [],
   "source": [
    "# Linear Programming\n",
    "model = pulp.LpProblem(\"Minimize_Shipping_Cost\", pulp.LpMinimize)\n",
    "\n",
    "# Decision Variables \n",
    "x = pulp.LpVariable.dicts(\"shipment\", (warehouses, stores), lowBound=0, cat='Continuous')\n",
    "\n",
    "# Objective Function\n",
    "model += pulp.lpSum([costs[w, s] * x[w][s] for w in warehouses for s in stores])\n"
   ]
  },
  {
   "cell_type": "code",
   "execution_count": 9,
   "id": "a60fc673-8aff-45cd-bf64-7639d962f05e",
   "metadata": {},
   "outputs": [],
   "source": [
    "\n",
    "for w in warehouses:\n",
    "    model += pulp.lpSum(x[w][s] for s in stores) <= supply[w]\n",
    "\n",
    "\n",
    "for s in stores:\n",
    "    model += pulp.lpSum(x[w][s] for w in warehouses) >= demand[s]\n"
   ]
  },
  {
   "cell_type": "code",
   "execution_count": 10,
   "id": "6ed9ce4f-6ca3-4db7-81c4-b662629fa5d5",
   "metadata": {},
   "outputs": [
    {
     "data": {
      "text/plain": [
       "1"
      ]
     },
     "execution_count": 10,
     "metadata": {},
     "output_type": "execute_result"
    }
   ],
   "source": [
    "model.solve()\n"
   ]
  },
  {
   "cell_type": "code",
   "execution_count": 11,
   "id": "628edab4-5945-4af5-8064-2be6b24f1697",
   "metadata": {},
   "outputs": [
    {
     "name": "stdout",
     "output_type": "stream",
     "text": [
      "W1 from S1 send of: 30.0 unit\n",
      "W1 from S2 send of: 0.0 unit\n",
      "W1 from S3 send of: 40.0 unit\n",
      "W2 from S1 send of: 20.0 unit\n",
      "W2 from S2 send of: 60.0 unit\n",
      "W2 from S3 send of: 0.0 unit\n",
      "\n",
      "total shipping cost = ₹380.0\n"
     ]
    }
   ],
   "source": [
    "\n",
    "for w in warehouses:\n",
    "    for s in stores:\n",
    "        print(f\"{w} from {s} send of: {x[w][s].varValue} unit\")\n",
    "\n",
    "# टोटल कॉस्ट\n",
    "print(f\"\\ntotal shipping cost = ₹{pulp.value(model.objective)}\")\n"
   ]
  },
  {
   "cell_type": "code",
   "execution_count": null,
   "id": "b373247e-af21-4d22-99f0-ec390f47df29",
   "metadata": {},
   "outputs": [],
   "source": []
  }
 ],
 "metadata": {
  "kernelspec": {
   "display_name": "Python [conda env:base] *",
   "language": "python",
   "name": "conda-base-py"
  },
  "language_info": {
   "codemirror_mode": {
    "name": "ipython",
    "version": 3
   },
   "file_extension": ".py",
   "mimetype": "text/x-python",
   "name": "python",
   "nbconvert_exporter": "python",
   "pygments_lexer": "ipython3",
   "version": "3.13.5"
  }
 },
 "nbformat": 4,
 "nbformat_minor": 5
}
